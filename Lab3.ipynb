{
  "nbformat": 4,
  "nbformat_minor": 0,
  "metadata": {
    "colab": {
      "provenance": [],
      "include_colab_link": true
    },
    "kernelspec": {
      "name": "python3",
      "display_name": "Python 3"
    },
    "language_info": {
      "name": "python"
    }
  },
  "cells": [
    {
      "cell_type": "markdown",
      "metadata": {
        "id": "view-in-github",
        "colab_type": "text"
      },
      "source": [
        "<a href=\"https://colab.research.google.com/github/Phatcharapon094/Py_Lab3/blob/main/Lab3.ipynb\" target=\"_parent\"><img src=\"https://colab.research.google.com/assets/colab-badge.svg\" alt=\"Open In Colab\"/></a>"
      ]
    },
    {
      "cell_type": "markdown",
      "source": [
        "# Exercise 3\n",
        "\n",
        "3.1 จากข้อมูลใน List ให้หาผลบวกเฉพาะตัวเลขคู่ โดยใช้ While Loop\n",
        "\n",
        "list1 = [1, 2, 3, 4, 5, 6, 7, 8, 9, 11, 13]\n",
        "\n"
      ],
      "metadata": {
        "id": "8LZVzcOUVMor"
      }
    },
    {
      "cell_type": "code",
      "execution_count": null,
      "metadata": {
        "id": "2cTrxjMXUE2n",
        "outputId": "847243fb-6dea-4e60-899b-8376d36e38c0",
        "colab": {
          "base_uri": "https://localhost:8080/"
        }
      },
      "outputs": [
        {
          "output_type": "stream",
          "name": "stdout",
          "text": [
            "2\n",
            "4\n",
            "6\n",
            "8\n"
          ]
        }
      ],
      "source": [
        "list1 = [1, 2, 3, 4, 5, 6, 7, 8, 9, 11, 13]\n",
        "i = 0\n",
        "while i < len(list1):\n",
        "\n",
        "  if list1[i]%2==0:\n",
        "    print(list1[i])\n",
        "  i+=1"
      ]
    },
    {
      "cell_type": "markdown",
      "source": [
        "3.2 จากข้อมูลใน List ให้หาตัวเลขที่มีค่ามากที่สุดเป็นอันดับ 2 ใน List โดยใช้ While Loop\n",
        "\n",
        "list = [-5, 7, 10, 1, 2, 5, 8, 100]\n"
      ],
      "metadata": {
        "id": "uPvbrsO_Vimb"
      }
    },
    {
      "cell_type": "code",
      "source": [
        "list = [-5, 7, 10, 1, 2, 5, 8, 100]\n",
        "most1 = 0\n",
        "most2 =0\n",
        "i = 0\n",
        "while i < len(list):\n",
        "  if list[i] > most1:\n",
        "        most2 = most1\n",
        "        most1 = list[i]\n",
        "  elif list[i] > most2 and list[i] < most1:\n",
        "        most2 = list[i]\n",
        "  i+=1\n",
        "print(most1)\n",
        "print(most2)"
      ],
      "metadata": {
        "id": "iUeJ91zfVr1Z",
        "colab": {
          "base_uri": "https://localhost:8080/"
        },
        "outputId": "e1ccd63b-bab4-4abf-d90f-ab3af4d793cb"
      },
      "execution_count": null,
      "outputs": [
        {
          "output_type": "stream",
          "name": "stdout",
          "text": [
            "100\n",
            "10\n"
          ]
        }
      ]
    },
    {
      "cell_type": "markdown",
      "source": [
        "3.3 เขียนโปรแกรมรับค่า n แล้วคำนวณค่าต่อไปนี้\n",
        "\n",
        "$1/1^2 + 1/2^2 + 1/3^2 + 1/4^2 + 1/5^2 + … +  1/n^2$\n"
      ],
      "metadata": {
        "id": "udBZzWe9VsU7"
      }
    },
    {
      "cell_type": "code",
      "source": [
        "n = 10\n",
        "sum = 0\n",
        "i = 1\n",
        "while i <= n:\n",
        "  sum += 1/(i**2)\n",
        "  i+=1\n",
        "print(sum)"
      ],
      "metadata": {
        "id": "xtBw7zuxWEZ4",
        "colab": {
          "base_uri": "https://localhost:8080/"
        },
        "outputId": "d4e5a1a2-eed2-4e94-8e8f-dba16116e4f4"
      },
      "execution_count": null,
      "outputs": [
        {
          "output_type": "stream",
          "name": "stdout",
          "text": [
            "1.5497677311665408\n"
          ]
        }
      ]
    },
    {
      "cell_type": "markdown",
      "source": [
        "3.4 จากข้อมูลใน List ให้ตรวจสอบว่า ข้อมูลในลิสต์ s เรียงลำดับจากน้อยไปมากหรือไม่ ตอบเป็น True, False\n",
        "\n",
        "\t[1,2,3,4,5], [5,4,3,2,1]\n"
      ],
      "metadata": {
        "id": "o-6AnE5zWFJJ"
      }
    },
    {
      "cell_type": "code",
      "source": [
        "x = [1,2,3,4,5]\n",
        "x1 = [5,4,3,2,1]\n",
        "if x[0] < x[1] and x[1] < x[2] and x[2] < x[3] and x[3] < x[4]:\n",
        "  print(True)\n",
        "else:\n",
        "  print(False)\n",
        "if x1[0] < x1[1] and x1[1] < x1[2] and x1[2] < x1[3] and x1[3] < x1[4]:\n",
        "  print(True)\n",
        "else:\n",
        "  print(False)"
      ],
      "metadata": {
        "id": "LYG2sGGgWNei",
        "outputId": "ff5ff1bd-61c2-41b8-dd67-f8a9f83f56cf",
        "colab": {
          "base_uri": "https://localhost:8080/"
        }
      },
      "execution_count": null,
      "outputs": [
        {
          "output_type": "stream",
          "name": "stdout",
          "text": [
            "True\n",
            "False\n"
          ]
        }
      ]
    },
    {
      "cell_type": "markdown",
      "source": [
        "3.5  ให้ x เป็นลิสต์เก็บคะแนน ต้องการปรับช่องที่มีค่าน้อยกว่า 30 ให้มีค่าเพิ่มอีก 10% แสดงผลลัพธ์ เป็น List\n",
        "\n",
        "\tx = [60, 70, 72, 65, 55, 43, 20, 90, 12]\n"
      ],
      "metadata": {
        "id": "Hv-fE32hWOBd"
      }
    },
    {
      "cell_type": "code",
      "source": [
        "x = [60, 70, 72, 65, 55, 43, 20, 90, 12]\n",
        "i = 0\n",
        "while i<len(x):\n",
        "  if x[i] < 30:\n",
        "    x[i]= x[i]+(10/100*x[i])\n",
        "  i+=1\n",
        "print(x)"
      ],
      "metadata": {
        "id": "BSFOJ_8GWTtL"
      },
      "execution_count": null,
      "outputs": []
    },
    {
      "cell_type": "markdown",
      "source": [
        "3.6 ต้องการหาผลรวมของคะแนนที่เก็บในลิสต์ x โดยขอไม่รวมคะแนนที่น้อยสุดอันดับ 2\n",
        "\n",
        "\tx = [15, 80, 75, 62, 55, 43, 99, 67, 10]\n"
      ],
      "metadata": {
        "id": "IDw88nQbWUTw"
      }
    },
    {
      "cell_type": "code",
      "source": [
        "list = [15, 80, 75, 62, 55, 43, 99, 67, 10]\n",
        "least1 = 10000\n",
        "least2 = 9999\n",
        "suma = 0\n",
        "i = 0\n",
        "while i < len(list):\n",
        "  suma += list[i]\n",
        "  if list[i] < least1:\n",
        "    least2 = least1\n",
        "    least1 = list[i]\n",
        "  elif list[i] < least2 and list[i] > least1:\n",
        "    least2 = list[i]\n",
        "  i+=1\n",
        "print(least1)\n",
        "print(least2)\n",
        "suma = suma - least1 - least2\n",
        "\n",
        "print(\"sum = \",suma)\n"
      ],
      "metadata": {
        "id": "Aool1F22WZKI",
        "colab": {
          "base_uri": "https://localhost:8080/"
        },
        "outputId": "907c4b46-2b11-4f6a-ce56-b014ff4ef9c8"
      },
      "execution_count": null,
      "outputs": [
        {
          "output_type": "stream",
          "name": "stdout",
          "text": [
            "10\n",
            "15\n",
            "sum =  481\n"
          ]
        }
      ]
    },
    {
      "cell_type": "markdown",
      "source": [
        "3.7 จากข้อมูลใน List ให้แสดง string ที่มีความยาวมากกว่า 2 และมีอักษรตัวแรกกับตัวสุดท้ายเหมือนกัน แสดงบรรทัดละ 1 ตัว\n",
        "\n",
        "\tlst = ['abba', 'a', 'aa', 'alcaza', 'python', 'stores', 'program', 'execute']\n"
      ],
      "metadata": {
        "id": "92oZ0IQdWZkF"
      }
    },
    {
      "cell_type": "code",
      "source": [
        "lst = ['abba', 'a', 'aa', 'alcaza', 'python', 'stores', 'program', 'execute']\n",
        "i = 0\n",
        "while len(lst) > i:\n",
        "  Keep = lst[i]\n",
        "  if len(Keep) > 2 and Keep[0] == Keep[-1]:\n",
        "    print(Keep)\n",
        "  i+=1"
      ],
      "metadata": {
        "id": "i3vr0x1vWiHH",
        "colab": {
          "base_uri": "https://localhost:8080/"
        },
        "outputId": "43a07b3d-3198-4e71-be75-848511bf907a"
      },
      "execution_count": null,
      "outputs": [
        {
          "output_type": "stream",
          "name": "stdout",
          "text": [
            "abba\n",
            "alcaza\n",
            "stores\n",
            "execute\n"
          ]
        }
      ]
    },
    {
      "cell_type": "markdown",
      "source": [
        "3.8 จากข้อมูลใน List ให้ลบข้อมูลที่มีซ้ำกันให้เหลือเพียงตัวเดียว ให้แสดงผลเป็น list เช่น\n",
        "\n",
        "[‘a’,’a’] => [‘a’]\n",
        "\n",
        "lst = ['a', 'a', 'b', 'a', 'b', 'c', 'd']\n"
      ],
      "metadata": {
        "id": "QicYHZbcWi8U"
      }
    },
    {
      "cell_type": "code",
      "source": [
        "lst = ['a', 'a', 'b', 'a', 'b', 'c', 'd']\n",
        "nonedupe_list = []\n",
        "\n",
        "for i in range(len(lst)):\n",
        "    if lst[i] not in nonedupe_list:\n",
        "        nonedupe_list.append(lst[i])\n",
        "\n",
        "print(nonedupe_list)"
      ],
      "metadata": {
        "id": "saXxuMceWzd2",
        "colab": {
          "base_uri": "https://localhost:8080/"
        },
        "outputId": "8cca3225-c7c4-4afb-d226-8cfc9d5f9f4e"
      },
      "execution_count": null,
      "outputs": [
        {
          "output_type": "stream",
          "name": "stdout",
          "text": [
            "['a', 'b', 'c', 'd']\n"
          ]
        }
      ]
    },
    {
      "cell_type": "markdown",
      "source": [
        "3.9 จากข้อมูลใน List ให้แสดงว่าแต่ละข้อมูลใน List มีจำนวนเท่าไร คือ มีซ้ำกันกี่ตัวใน List  ให้แสดงบรรทัดละตัว เช่น\n",
        "\n",
        "\t[1, 2, 3, 4, 1, 2, 3, 1, 2, 1]\n",
        "\t1 = 4\n",
        "\t2 = 3\n",
        "\t3 = 2\n",
        "\t4 = 1\n",
        "  \n",
        "\tlst = [1,2,3,4,5,1,2,3,4,1,2,3,1,2,1]"
      ],
      "metadata": {
        "id": "Dl6OEM9nWz8s"
      }
    },
    {
      "cell_type": "code",
      "source": [
        "lst = [1,2,3,4,5,1,2,3,4,1,2,3,1,2,1]\n",
        "lstnodupe=[]\n",
        "x = []\n",
        "y=0\n",
        "for i in range(len(lst)):\n",
        "  if lst[i] not in lstnodupe:\n",
        "        lstnodupe.append(lst[i])#ทำให้ lstnodupe มีแต่ตัวแปรที่ไม่ซ้ำกัน\n",
        "print(lstnodupe)\n",
        "for i in range(len(lstnodupe)):\n",
        "  x = x + [0] #สร้างตัวแปรใหม่เก็บค่าครั้งที่ซ้ำกันให้มี index = lstnodupe\n",
        "for i in range(len(lst)):\n",
        "    if lst[i] in lstnodupe:\n",
        "      for y in range(len(lstnodupe)):\n",
        "        if lst[i] == lstnodupe[y]:\n",
        "          x[y] = x[y]+1  #ใส่ค่าเข้าไปในตัวแปร ที่เอาไว้เก็บค่า ตัวซ้ำโดยวนลูปตั้งแต่ lst[0] ถึง ตัว สุดท้าย\n",
        "                         #โดยเทียบ เช่น lst0 = 1 เทียบในลูป โดยจะเป็น 1 == 1,1 == 2,1 == 3,1 == 4 เทียบเรื่อยๆ lst จะถึงตัวสุดท้าย\n",
        "print(x)\n",
        "for i in range(len(lstnodupe)):\n",
        "    print(str(lstnodupe[i]) + \" = \" + str(x[i]))"
      ],
      "metadata": {
        "id": "Dm0dAivtW7vQ",
        "colab": {
          "base_uri": "https://localhost:8080/"
        },
        "outputId": "c333ae6d-2554-431e-e6e2-8a26ccc108d6"
      },
      "execution_count": null,
      "outputs": [
        {
          "output_type": "stream",
          "name": "stdout",
          "text": [
            "[1, 2, 3, 4, 5]\n",
            "[5, 4, 3, 2, 1]\n",
            "1 = 5\n",
            "2 = 4\n",
            "3 = 3\n",
            "4 = 2\n",
            "5 = 1\n"
          ]
        }
      ]
    },
    {
      "cell_type": "markdown",
      "source": [
        "1.\tเขียนโปรแกรมเพื่อหาผลบวกของอนุกรม 5+10+15+20+… จนถึง n เมื่อ n เป็นตัวเลขที่รับเข้ามาทางคีย์บอร์ด"
      ],
      "metadata": {
        "id": "GgbgWOV6W8Nn"
      }
    },
    {
      "cell_type": "code",
      "source": [
        "n = 5\n",
        "sum = 0\n",
        "for i in range(1,n+1):\n",
        "  sum = sum + (5*(i))\n",
        "\n",
        "print(sum)"
      ],
      "metadata": {
        "id": "9cCHZsLhXGKm",
        "colab": {
          "base_uri": "https://localhost:8080/"
        },
        "outputId": "78327ce6-5226-4880-b8fd-f1ec2a8aad59"
      },
      "execution_count": null,
      "outputs": [
        {
          "output_type": "stream",
          "name": "stdout",
          "text": [
            "75\n"
          ]
        }
      ]
    },
    {
      "cell_type": "markdown",
      "source": [
        "2.\tจงเขียนโปรแกรมที่จะหาตัวเลขระหว่าง 2000-3200 ที่หารด้วย 7 ลงตัว แต่หารด้วย 5 ไม่ลงตัว\n",
        "การแสดงผลให้แสดงตัวเลขและคั่นด้วยเครื่องหมาย , ในบรรทัดเดียว\n",
        "\n",
        "2002,2009,2016,2023,2037,2044,2051,2058,2072,2079,2086,2093,2107,2114,2121,2128,2142,2149,2156,2163,2177,2184,2191,2198,2212,2219,2226,2233,2247,2254,2261,2268,2282,2289,2296,2303,2317,2324,2331,2338,2352,2359,2366,2373,2387,2394,2401,2408,2422,2429,2436,2443,2457,2464,2471,2478,2492,2499,2506,2513,2527,2534,2541,2548,2562,2569,2576,2583,2597,2604,2611,2618,2632,2639,2646,2653,2667,2674,2681,2688,2702,2709,2716,2723,2737,2744,2751,2758,2772,2779,2786,2793,2807,2814,2821,2828,2842,2849,2856,2863,2877,2884,2891,2898,2912,2919,2926,2933,2947,2954,2961,2968,2982,2989,2996,3003,3017,3024,3031,3038,3052,3059,3066,3073,3087,3094,3101,3108,3122,3129,3136,3143,3157,3164,3171,3178,3192,3199,"
      ],
      "metadata": {
        "id": "aujapFNTXGsV"
      }
    },
    {
      "cell_type": "code",
      "source": [
        "sum = \"\"\n",
        "for i in range(2000,3200):\n",
        "  if (i%7) == 0 and i%5 != 0 :\n",
        "\n",
        "    sum = sum + str(i) +\",\"\n",
        "print(sum)"
      ],
      "metadata": {
        "id": "L-kIF3-nXJqR",
        "colab": {
          "base_uri": "https://localhost:8080/"
        },
        "outputId": "2e2a0050-ccf0-4394-c8ef-b9b9af52a7cd"
      },
      "execution_count": null,
      "outputs": [
        {
          "output_type": "stream",
          "name": "stdout",
          "text": [
            "2002,2009,2016,2023,2037,2044,2051,2058,2072,2079,2086,2093,2107,2114,2121,2128,2142,2149,2156,2163,2177,2184,2191,2198,2212,2219,2226,2233,2247,2254,2261,2268,2282,2289,2296,2303,2317,2324,2331,2338,2352,2359,2366,2373,2387,2394,2401,2408,2422,2429,2436,2443,2457,2464,2471,2478,2492,2499,2506,2513,2527,2534,2541,2548,2562,2569,2576,2583,2597,2604,2611,2618,2632,2639,2646,2653,2667,2674,2681,2688,2702,2709,2716,2723,2737,2744,2751,2758,2772,2779,2786,2793,2807,2814,2821,2828,2842,2849,2856,2863,2877,2884,2891,2898,2912,2919,2926,2933,2947,2954,2961,2968,2982,2989,2996,3003,3017,3024,3031,3038,3052,3059,3066,3073,3087,3094,3101,3108,3122,3129,3136,3143,3157,3164,3171,3178,3192,3199,\n"
          ]
        }
      ]
    },
    {
      "cell_type": "markdown",
      "source": [
        "3.\tจากข้อมูลใน List ต้องการนับว่า มีข้อมูลกี่คู่ในลิสต์ที่ตัวทางซ้ายมีค่ามากกว่าตัวทางขวา (ไม่จำเป็นต้องอยู่ติดกัน)\n",
        "\n",
        "x = [1, 5, 4, 2, 1]"
      ],
      "metadata": {
        "id": "FCZpmtuFXKUl"
      }
    },
    {
      "cell_type": "code",
      "source": [
        "x = [1, 5, 4, 2, 1]\n",
        "more = 0\n",
        "for i in range(0, len(x)):\n",
        "  for y in range(i,len(x)):\n",
        "     if x[i] > x[y]:\n",
        "      more += 1\n",
        "print(more)"
      ],
      "metadata": {
        "id": "VBgfWEXuXjQH",
        "colab": {
          "base_uri": "https://localhost:8080/"
        },
        "outputId": "bc715162-094d-4d58-c0e8-1dc035d14f0f"
      },
      "execution_count": null,
      "outputs": [
        {
          "output_type": "stream",
          "name": "stdout",
          "text": [
            "6\n"
          ]
        }
      ]
    },
    {
      "cell_type": "markdown",
      "source": [
        "4.\tให้ตรวจสอบว่า String ที่รับเข้ามาผ่านคีย์บอร์ด เป็นตัวอักษรพิมพ์เล็ก หรือตัวอักษรพิมพ์ใหญ่ อย่างละกี่ตัว ตอบ 2 บรรทัด พิมพ์เล็ก 1 บรรทัด พิมพ์ใหญ่ 1 บรรทัด\n",
        "\n",
        "klfjslkgD;FGK;LSDKdl;gfk;\n",
        "=> 18,3"
      ],
      "metadata": {
        "id": "UAEC1_jdXjya"
      }
    },
    {
      "cell_type": "code",
      "source": [
        "inputt = \"klfjslkgD;FGK;LSDKdl;gfk;\"\n",
        "upper = 0\n",
        "lower = 0\n",
        "i = 0\n",
        "for i in range(0,len(inputt)):\n",
        "  if inputt[i].isupper() == True:\n",
        "    upper +=1\n",
        "  elif inputt[i].islower() == True:\n",
        "    lower+= 1\n",
        "print(\"Upper = \",upper)\n",
        "print(\"Lower = \",lower)"
      ],
      "metadata": {
        "id": "rSYwEhjEYY8N",
        "colab": {
          "base_uri": "https://localhost:8080/"
        },
        "outputId": "e0a683c8-07ee-4825-e918-c1c2844f6859"
      },
      "execution_count": null,
      "outputs": [
        {
          "output_type": "stream",
          "name": "stdout",
          "text": [
            "Upper =  8\n",
            "Lower =  13\n"
          ]
        }
      ]
    },
    {
      "cell_type": "markdown",
      "source": [
        "5.\tจงเขียนโปรแกรมที่หาตัวเลขระหว่าง 1000 และ 3000 ที่ทุกหลักเป็นเลขคู่ (รวม 1000 และ 3000) โดยแสดงผลในรูปแบบตัวเลขคั่นด้วย comma\n",
        "\n",
        "2000,2002,2004,2006,2008,2020,2022,2024,2026,2028,2040,2042,2044,2046,2048,2060,2062,2064,2066,2068,2080,2082,2084,2086,2088,2200,2202,2204,2206,2208,2220,2222,2224,2226,2228,2240,2242,2244,2246,2248,2260,2262,2264,2266,2268,2280,2282,2284,2286,2288,2400,2402,2404,2406,2408,2420,2422,2424,2426,2428,2440,2442,2444,2446,2448,2460,2462,2464,2466,2468,2480,2482,2484,2486,2488,2600,2602,2604,2606,2608,2620,2622,2624,2626,2628,2640,2642,2644,2646,2648,2660,2662,2664,2666,2668,2680,2682,2684,2686,2688,2800,2802,2804,2806,2808,2820,2822,2824,2826,2828,2840,2842,2844,2846,2848,2860,2862,2864,2866,2868,2880,2882,2884,2886,2888,"
      ],
      "metadata": {
        "id": "lBtvmw_sYYX_"
      }
    },
    {
      "cell_type": "code",
      "source": [
        "sum = \"\"\n",
        "string_test = \"\"\n",
        "all = 0\n",
        "for i in range(1000,3000):\n",
        "  all = 0\n",
        "  string_test = str(i) # แปลงเป็นสติงเพื่อเทียบค่าทีละหลัก\n",
        "  for y in range(len(string_test)): #วนหาทุกหลักว่าเป็นเลขคู่ครบ 4 ตัวไหม ถ้าครบให้เพิ่มค่าลงใน sum\n",
        "      if int(string_test[y])%2 == 0:\n",
        "        all +=1\n",
        "      if all == 4:\n",
        "        sum = sum + str(i) + \",\"\n",
        "\n",
        "print(sum)"
      ],
      "metadata": {
        "id": "VvChTQMjYqYi",
        "colab": {
          "base_uri": "https://localhost:8080/"
        },
        "outputId": "a79b6b23-1d5d-4919-cf38-828a46cce751"
      },
      "execution_count": null,
      "outputs": [
        {
          "output_type": "stream",
          "name": "stdout",
          "text": [
            "2000,2002,2004,2006,2008,2020,2022,2024,2026,2028,2040,2042,2044,2046,2048,2060,2062,2064,2066,2068,2080,2082,2084,2086,2088,2200,2202,2204,2206,2208,2220,2222,2224,2226,2228,2240,2242,2244,2246,2248,2260,2262,2264,2266,2268,2280,2282,2284,2286,2288,2400,2402,2404,2406,2408,2420,2422,2424,2426,2428,2440,2442,2444,2446,2448,2460,2462,2464,2466,2468,2480,2482,2484,2486,2488,2600,2602,2604,2606,2608,2620,2622,2624,2626,2628,2640,2642,2644,2646,2648,2660,2662,2664,2666,2668,2680,2682,2684,2686,2688,2800,2802,2804,2806,2808,2820,2822,2824,2826,2828,2840,2842,2844,2846,2848,2860,2862,2864,2866,2868,2880,2882,2884,2886,2888,\n"
          ]
        }
      ]
    },
    {
      "cell_type": "markdown",
      "source": [
        "6.\tในคณิตศาสตร์ ตัวหารร่วมมาก หรือ ห.ร.ม. (greatest common divisor: gcd) ของจำนวนเต็มสองจำนวนซึ่งไม่เป็นศูนย์พร้อมกัน คือจำนวนเต็มที่มากที่สุดที่หารทั้งสองจำนวนลงตัว\n",
        "จงหา ห.ร.ม. ของจำนวนเต็ม 2 จำนวนที่กำหนดให้\n",
        "ข้อมูลนำเข้า\n",
        "บรรทัดแรกเพียงบรรทัดเดียว ประกอบไปด้วยจำนวนเต็มบวกสองจำนวน a และ b มีค่าไม่เกิน 9999\n",
        "ข้อมูลส่งออก\n",
        "ในบรรทัดแรกของข้อมูลส่งออก ให้แสดงค่า ห.ร.ม. ของ a และ b\n",
        "เช่น \tInput : 12 14\t\tOutput : 2\n",
        "\tInput : 7 3\t\tOutput : 1\n",
        "\n",
        "678\n",
        "345\n",
        "=> 3"
      ],
      "metadata": {
        "id": "6TCedRC8YqyU"
      }
    },
    {
      "cell_type": "code",
      "source": [
        "inp1 = 678\n",
        "inp2 = 345\n",
        "x = 0\n",
        "y = 0\n",
        "for i in range(1,inp1):\n",
        "  if inp1 % i == 0 and inp2 % i == 0:\n",
        "        x = i\n",
        "print(x)"
      ],
      "metadata": {
        "id": "yrD4p2Q6Y6qr",
        "outputId": "e7319af1-4d8b-4270-de52-602afd3f5043",
        "colab": {
          "base_uri": "https://localhost:8080/"
        }
      },
      "execution_count": null,
      "outputs": [
        {
          "output_type": "stream",
          "name": "stdout",
          "text": [
            "3\n"
          ]
        }
      ]
    },
    {
      "cell_type": "markdown",
      "source": [
        "7.\tจงเขียนโปรแกรมที่คำนวณค่าของ a+aa+aaa+aaaa เมื่อรับข้อมูลเป็นตัวเลข 1 หลัก\n",
        "\n",
        "Input : 9\n",
        "\n",
        "Output : 11106 (=9+99+999+9999)\n"
      ],
      "metadata": {
        "id": "DW9riUdiY7KK"
      }
    },
    {
      "cell_type": "code",
      "source": [
        "Inputt = \"9\"\n",
        "if Inputt.isnumeric() == True and len(Inputt) == 1:\n",
        "  x = Inputt\n",
        "  sum = 0\n",
        "  show_string = Inputt\n",
        "  for i in range(4):\n",
        "    if i > 0:\n",
        "      x +=Inputt\n",
        "      show_string += \"+\"+x\n",
        "    sum += int(x)\n",
        "  print(str(sum)+\" (\"+\"=\"+show_string+\")\")\n",
        "else:\n",
        "  print(\"error\")"
      ],
      "metadata": {
        "id": "iAZlPfC4Y-GG",
        "colab": {
          "base_uri": "https://localhost:8080/"
        },
        "outputId": "8ff51c0e-06da-4826-a9c6-b2222c4ea1b5"
      },
      "execution_count": null,
      "outputs": [
        {
          "output_type": "stream",
          "name": "stdout",
          "text": [
            "11106 (=9+99+999+9999)\n"
          ]
        }
      ]
    },
    {
      "cell_type": "markdown",
      "source": [
        "8.\tแปลงเลขโรมัน เป็นเลขอารบิก เช่น MMMDCCXXIV = 3724 (ค้นหาวิธีทางทางอินเตอร์เน็ต)\n"
      ],
      "metadata": {
        "id": "G3jPCyruZAZY"
      }
    },
    {
      "cell_type": "code",
      "source": [
        "Roman = \"MMMDCCXXIV\"\n",
        "Value = ['M','D','C','L','X','V','I']\n",
        "ValueInt = [1000,500,100,50,10,5,1]\n",
        "CurrentValue = 0\n",
        "NextValue = 0\n",
        "Sum = 0\n",
        "for i in range(len(Roman)):  #เช็คค่าที่ละตัวตามจำนวนเลขที่ใส่มา\n",
        "  for y in range(len(Value)):  #เอาเลขตัวที่ i ไปเทียบกับค่าตามตำแหน่งของมันทีละตัว\n",
        "    if Roman[i] == Value[y]:  #ถ้าค่าตัวที่ i ตรงกับตัวอักษรตามต่ำแหน่ง เช่น M = M\n",
        "      CurrentValue = ValueInt[y]  #ก็จะแทนค่าปัจจุบันลงในค่าประจำหน่วย เช่น M = 1000\n",
        "    if i <= len(Roman)-2:  #กำหนด ค่าตัวถัดไปจนกว่าจะถึง index รองสุดท้ายของ Roman เพื่อกัน Index out of range\n",
        "      if Roman[i+1] == Value[y]:\n",
        "          NextValue = ValueInt[y] #กำหนดค่าตัวถัดไป\n",
        "  if CurrentValue >= NextValue:  #เทียบค่าปัจจุบันกับค่าถัดไป ถ้ามากกว่า เช่น XX ค่าของมันก็จะบวกตามปกติ\n",
        "        Sum += CurrentValue\n",
        "  else:                          #แต่ถ้าค่ามันเป็น iv ก็คือ 4 หรือ ข้างหน้าน้อยกว่าหลังก็จะลบผลรวมตามเลขข้างหน้า\n",
        "        Sum -= CurrentValue\n",
        "print(Sum)"
      ],
      "metadata": {
        "id": "6RBWGF4IZGnc",
        "colab": {
          "base_uri": "https://localhost:8080/"
        },
        "outputId": "86ab410b-f789-4534-c7a9-d906b747fe7e"
      },
      "execution_count": 83,
      "outputs": [
        {
          "output_type": "stream",
          "name": "stdout",
          "text": [
            "3724\n"
          ]
        }
      ]
    },
    {
      "cell_type": "markdown",
      "source": [
        "9.\tอนุกรม Fibonacci คือ อนุกรมที่ตัวที่ 3 เป็นต้นไปเกิดจาก 2 ตัวหน้าบวกกัน จงเขียนโปรแกรมแสดงอนุกรม\n",
        "เช่น ตั้งแต่ 0-1000 คือ 0, 1, 1, 2, 3, 5, 8, 13, 21, 34, 55, 89, 144, 233, 377, 610, 987\n"
      ],
      "metadata": {
        "id": "SJBVkaFHZHKe"
      }
    },
    {
      "cell_type": "code",
      "source": [
        "i = 0\n",
        "x = 1\n",
        "swap =0\n",
        "while True:\n",
        "  if swap == 0:\n",
        "    print(str(i)+\",\"+str(x)+\",\"+str(i+x), end=\"\")\n",
        "  else :\n",
        "    print(\",\"+str(i+x),end=\"\")\n",
        "  if swap % 2 == 0:\n",
        "    i = x + i\n",
        "  else:\n",
        "    x = i + x\n",
        "  swap += 1\n",
        "  if (i+x) > 1000 :\n",
        "    break"
      ],
      "metadata": {
        "id": "Vdtc9KqSZLls",
        "colab": {
          "base_uri": "https://localhost:8080/"
        },
        "outputId": "8ed1dd52-066c-47f2-bd36-66daf861c7f7"
      },
      "execution_count": 82,
      "outputs": [
        {
          "output_type": "stream",
          "name": "stdout",
          "text": [
            "0,1,1,2,3,5,8,13,21,34,55,89,144,233,377,610,987"
          ]
        }
      ]
    },
    {
      "cell_type": "markdown",
      "source": [
        "10.\tให้สร้างโปรแกรม True Love โดยรับชื่อภาษาอังกฤษของ 2 คน จากนั้นค้นหาว่ามีตัวอักษรอยู่ในคำว่า True และ Love รวมกันกี่ตัว จากนั้นนำมาต่อกันเป็น % ตามรูป (ไม่ต้องแสดงเครื่องหมาย %)"
      ],
      "metadata": {
        "id": "1ykDG1H4ZKd4"
      }
    },
    {
      "cell_type": "code",
      "source": [
        "Yname = \"Krystie Lee Yandoli\"\n",
        "Hname = \"Aubrey Drake Graham\"\n",
        "Yname = Yname.upper()\n",
        "Hname = Hname.upper()\n",
        "T = [\"T\",\"R\",\"U\",\"E\",\"L\",\"O\",\"V\",\"E\"]\n",
        "TL = [0,0,0,0,0,0,0,0]\n",
        "i = 0\n",
        "for i in range(len(Yname)):\n",
        "  for y in range(len(T)):\n",
        "    if Yname[i] == T[y]:\n",
        "      TL[y]+= 1\n",
        "for i in range(len(Hname)):\n",
        "  for y in range(len(T)):\n",
        "    if Hname[i] == T[y]:\n",
        "      TL[y]+= 1\n",
        "\n",
        "print(T[0]+\" \"+str(TL[0])+\"  \"+T[4]+\" \"+str(TL[4]))\n",
        "print(T[1]+\" \"+str(TL[1])+\"  \"+T[5]+\" \"+str(TL[5]))\n",
        "print(T[2]+\" \"+str(TL[2])+\"  \"+T[6]+\" \"+str(TL[6]))\n",
        "print(T[3]+\" \"+str(TL[3])+\"  \"+T[7]+\" \"+str(TL[7]))\n",
        "print(\"________\")\n",
        "print(\"  \",end=\"\")\n",
        "print(TL[0]+TL[1]+TL[2]+TL[3],end=\"\")\n",
        "print(TL[4]+TL[5]+TL[6]+TL[7])"
      ],
      "metadata": {
        "id": "syOZPpj2ZPaA",
        "colab": {
          "base_uri": "https://localhost:8080/"
        },
        "outputId": "b2ce1b9c-9be3-4684-a885-eb61a46817ab"
      },
      "execution_count": 102,
      "outputs": [
        {
          "output_type": "stream",
          "name": "stdout",
          "text": [
            "T 1  L 2\n",
            "R 4  O 1\n",
            "U 1  V 0\n",
            "E 5  E 5\n",
            "________\n",
            "  118\n"
          ]
        }
      ]
    }
  ]
}